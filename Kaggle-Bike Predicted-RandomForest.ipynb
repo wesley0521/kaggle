{
  "nbformat": 4,
  "nbformat_minor": 0,
  "metadata": {
    "colab": {
      "provenance": [],
      "authorship_tag": "ABX9TyOLz77nYTHtTsFko71hmTUo",
      "include_colab_link": true
    },
    "kernelspec": {
      "name": "python3",
      "display_name": "Python 3"
    },
    "language_info": {
      "name": "python"
    }
  },
  "cells": [
    {
      "cell_type": "markdown",
      "metadata": {
        "id": "view-in-github",
        "colab_type": "text"
      },
      "source": [
        "<a href=\"https://colab.research.google.com/github/wesley0521/kaggle/blob/main/Kaggle-Bike%20Predicted-RandomForest.ipynb\" target=\"_parent\"><img src=\"https://colab.research.google.com/assets/colab-badge.svg\" alt=\"Open In Colab\"/></a>"
      ]
    },
    {
      "cell_type": "code",
      "source": [
        "import pandas as pd\n",
        "import numpy as np\n",
        "import matplotlib.pyplot as plt\n",
        "import seaborn as sns\n",
        "%matplotlib inline"
      ],
      "metadata": {
        "id": "Iw7g5lx0Yl69"
      },
      "execution_count": null,
      "outputs": []
    },
    {
      "cell_type": "code",
      "source": [
        "train = pd.read_csv(\"/content/train-bike.csv\")\n",
        "test = pd.read_csv(\"/content/test-bike.csv\")\n",
        "print(train.head(5))\n"
      ],
      "metadata": {
        "colab": {
          "base_uri": "https://localhost:8080/"
        },
        "id": "EWOyD2UFFiID",
        "outputId": "bb310734-235a-4ca4-95e9-7d52f10f684c"
      },
      "execution_count": null,
      "outputs": [
        {
          "output_type": "stream",
          "name": "stdout",
          "text": [
            "              datetime  season  holiday  workingday  weather  temp   atemp  \\\n",
            "0  2011-01-01 00:00:00       1        0           0        1  9.84  14.395   \n",
            "1  2011-01-01 01:00:00       1        0           0        1  9.02  13.635   \n",
            "2  2011-01-01 02:00:00       1        0           0        1  9.02  13.635   \n",
            "3  2011-01-01 03:00:00       1        0           0        1  9.84  14.395   \n",
            "4  2011-01-01 04:00:00       1        0           0        1  9.84  14.395   \n",
            "\n",
            "   humidity  windspeed  casual  registered  count  \n",
            "0        81        0.0       3          13     16  \n",
            "1        80        0.0       8          32     40  \n",
            "2        80        0.0       5          27     32  \n",
            "3        75        0.0       3          10     13  \n",
            "4        75        0.0       0           1      1  \n"
          ]
        }
      ]
    },
    {
      "cell_type": "code",
      "source": [
        "#將train和test合併\n",
        "data = pd.concat([train,test],ignore_index=True)\n",
        "from datetime import datetime\n",
        "#將資料集中的datetime轉換成date,hour,year,weekday,month\n",
        "data[\"date\"] = data.datetime.apply(lambda x:x.split()[0])\n",
        "data[\"hour\"] = data.datetime.apply(lambda x:x.split()[1].split(\":\")[0]).astype(\"int\")\n",
        "data[\"year\"] = data.datetime.apply(lambda x:x.split()[0].split(\"-\")[0]).astype(\"int\").apply(lambda x:x-2011)\n",
        "data[\"weekday\"] = data.date.apply(lambda dateString:datetime.strptime(dateString,\"%Y-%m-%d\").weekday())\n",
        "data[\"month\"] = data.date.apply(lambda dateString:datetime.strptime(dateString,\"%Y-%m-%d\").month)\n",
        "#將weather(season)欄位中所有的天氣提取出來產生新的欄位，0代表不是該天氣(季節)，1代表為該天氣(季節)\n",
        "weather_dummies = pd.get_dummies(data.weather,prefix=\"weather\",dtype=\"int\")\n",
        "season_dummies = pd.get_dummies(data.season,prefix=\"season\",dtype=\"int\")\n",
        "data = pd.concat([data,weather_dummies,season_dummies],axis=1)\n",
        "data = data.drop([\"weather\",\"season\"],axis=1)\n",
        "print(data.head(5))"
      ],
      "metadata": {
        "colab": {
          "base_uri": "https://localhost:8080/"
        },
        "id": "OezEwYkrZkIg",
        "outputId": "42744766-ef9f-4141-f717-081fb03dc234"
      },
      "execution_count": null,
      "outputs": [
        {
          "output_type": "stream",
          "name": "stdout",
          "text": [
            "              datetime  holiday  workingday  temp   atemp  humidity  \\\n",
            "0  2011-01-01 00:00:00        0           0  9.84  14.395        81   \n",
            "1  2011-01-01 01:00:00        0           0  9.02  13.635        80   \n",
            "2  2011-01-01 02:00:00        0           0  9.02  13.635        80   \n",
            "3  2011-01-01 03:00:00        0           0  9.84  14.395        75   \n",
            "4  2011-01-01 04:00:00        0           0  9.84  14.395        75   \n",
            "\n",
            "   windspeed  casual  registered  count  ... weekday  month  weather_1  \\\n",
            "0        0.0     3.0        13.0   16.0  ...       5      1          1   \n",
            "1        0.0     8.0        32.0   40.0  ...       5      1          1   \n",
            "2        0.0     5.0        27.0   32.0  ...       5      1          1   \n",
            "3        0.0     3.0        10.0   13.0  ...       5      1          1   \n",
            "4        0.0     0.0         1.0    1.0  ...       5      1          1   \n",
            "\n",
            "   weather_2  weather_3  weather_4  season_1  season_2  season_3  season_4  \n",
            "0          0          0          0         1         0         0         0  \n",
            "1          0          0          0         1         0         0         0  \n",
            "2          0          0          0         1         0         0         0  \n",
            "3          0          0          0         1         0         0         0  \n",
            "4          0          0          0         1         0         0         0  \n",
            "\n",
            "[5 rows x 23 columns]\n"
          ]
        }
      ]
    },
    {
      "cell_type": "code",
      "source": [
        "#將casual和regestered分開預測\n",
        "#先建立一個預測casual數量的dataframe然後去除掉不需要的欄位\n",
        "dataCasual = data.drop([\"registered\",\"count\",\"datetime\",\"date\"],axis=1)\n",
        "#將資料分依照casual是否為NAN分成訓練及測試資料集\n",
        "trainCasual = dataCasual[dataCasual[\"casual\"].notnull()]\n",
        "testCasual = dataCasual[dataCasual[\"casual\"].isnull()]\n",
        "yLabel = trainCasual[\"casual\"]+1\n",
        "#發現yLabel的分布呈現左偏所以使用log(x+1)函數調整使其較接近常態分配\n",
        "y_log = np.log1p(yLabel)\n",
        "b = sns.distplot(y_log)"
      ],
      "metadata": {
        "colab": {
          "base_uri": "https://localhost:8080/",
          "height": 449
        },
        "id": "aJCHryJiZbIr",
        "outputId": "602911f7-f09c-4a0c-c605-5a4f4e45217a"
      },
      "execution_count": null,
      "outputs": [
        {
          "output_type": "display_data",
          "data": {
            "text/plain": [
              "<Figure size 640x480 with 1 Axes>"
            ],
            "image/png": "[encoded data removed]"
          },
          "metadata": {}
        }
      ]
    },
    {
      "cell_type": "code",
      "source": [
        "train_attributes = trainCasual.drop([\"casual\",\"month\"],axis=1)\n",
        "train_label = y_log\n",
        "#使用RandomForestRegressor建立模型\n",
        "from sklearn.ensemble import RandomForestRegressor\n",
        "#利用cross_val_score中的neg_root_mean_squared_log_error評估模型準確度\n",
        "from sklearn.model_selection import cross_val_score\n",
        "casual_model = RandomForestRegressor(n_estimators=501,n_jobs=-1)\n",
        "scores = cross_val_score(casual_model,train_attributes,train_label,scoring=\"neg_root_mean_squared_log_error\",cv=10,n_jobs=-1,error_score=\"raise\")\n",
        "print(scores)\n",
        "#訓練模型\n",
        "casual_model.fit(train_attributes,train_label)\n",
        "preds = casual_model.predict(train_attributes)\n",
        "test_attributes = testCasual.drop([\"casual\",\"month\"],axis=1)\n",
        "#預測測試的casual\n",
        "pred_casual = casual_model.predict(test_attributes)\n",
        "print(pred_casual)"
      ],
      "metadata": {
        "colab": {
          "base_uri": "https://localhost:8080/"
        },
        "id": "az314MhKOHUT",
        "outputId": "9274f5fd-9f2c-457d-f19b-ae69c669f3bf"
      },
      "execution_count": null,
      "outputs": [
        {
          "output_type": "stream",
          "name": "stdout",
          "text": [
            "[-0.23030841 -0.1698003  -0.12540342 -0.13908154 -0.16265337 -0.20809978\n",
            " -0.16196454 -0.11786242 -0.12487728 -0.16039304]\n",
            "[1.27349691 0.91614701 1.06246171 ... 1.65181622 1.65494068 1.41124348]\n"
          ]
        }
      ]
    },
    {
      "cell_type": "code",
      "source": [
        "#預測registered\n",
        "dataReg = data.drop([\"casual\",\"count\",\"datetime\",\"date\"],axis=1)\n",
        "trainReg = dataReg[dataReg[\"registered\"].notnull()]\n",
        "testReg = dataReg[dataReg[\"registered\"].isnull()]\n",
        "yLabel = trainReg[\"registered\"]\n",
        "y_log = np.log1p(yLabel)\n",
        "\n",
        "train_attributes = trainReg.drop([\"registered\",\"month\"],axis=1)\n",
        "train_label = y_log\n",
        "from sklearn.ensemble import RandomForestRegressor\n",
        "from sklearn.model_selection import cross_val_score\n",
        "Reg_model = RandomForestRegressor(n_estimators=501,n_jobs=-1)\n",
        "scores = cross_val_score(casual_model,train_attributes,train_label,scoring=\"neg_root_mean_squared_log_error\",cv=10,n_jobs=-1,error_score=\"raise\")\n",
        "print(scores)\n",
        "Reg_model.fit(train_attributes,train_label)\n",
        "preds = Reg_model.predict(train_attributes)\n",
        "test_attributes = testReg.drop([\"registered\",\"month\"],axis=1)\n",
        "pred_Reg = Reg_model.predict(test_attributes)\n",
        "print(pred_Reg)"
      ],
      "metadata": {
        "colab": {
          "base_uri": "https://localhost:8080/"
        },
        "id": "Upe18PU4VIRI",
        "outputId": "6de60e5d-fc94-47b1-c2ff-837f5a944e8b"
      },
      "execution_count": null,
      "outputs": [
        {
          "output_type": "stream",
          "name": "stdout",
          "text": [
            "[-0.16135421 -0.13551956 -0.07642512 -0.10398044 -0.10666788 -0.10788939\n",
            " -0.09964712 -0.06826978 -0.06695005 -0.09060162]\n",
            "[2.51102972 1.75537227 1.00808003 ... 4.6190605  4.53452419 3.81051508]\n"
          ]
        }
      ]
    },
    {
      "cell_type": "code",
      "source": [
        "#設置一個時間的欄位\n",
        "datetimecol = test[\"datetime\"]\n",
        "#將預測的casual和registered加起來 因為前面計算log(x+1)所以遮裡要exp(x)-1所以使用np.expm1()\n",
        "count = np.expm1(pred_casual)+np.expm1(pred_Reg)\n",
        "#建立一個新的dataframe並將datetimecol和count合併起來\n",
        "submit = pd.concat([datetimecol,pd.DataFrame(count,columns=[\"count\"])],axis=1)\n",
        "submit.to_csv(\"submit-bike-1.csv\",index=False)"
      ],
      "metadata": {
        "id": "OnTN3Iu6qzpa"
      },
      "execution_count": null,
      "outputs": []
    },
    {
      "cell_type": "code",
      "source": [],
      "metadata": {
        "id": "4Z7-Sp43yZK5"
      },
      "execution_count": null,
      "outputs": []
    }
  ]
}